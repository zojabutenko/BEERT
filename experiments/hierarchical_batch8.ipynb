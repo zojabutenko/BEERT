{
 "cells": [
  {
   "cell_type": "code",
   "execution_count": null,
   "metadata": {
    "id": "mXDOdUMJXMKM"
   },
   "outputs": [],
   "source": [
    "links = {}\n",
    "url = f'https://www.beeradvocate.com/beer/styles/'\n",
    "response = requests.get(url)\n",
    "soup = BeautifulSoup(response.text, 'lxml')\n",
    "divs = soup.find_all('div', class_='stylebreak')\n",
    "for div in divs:\n",
    "  group_name = div.find_all('b')[0].text\n",
    "  lis = div.find_all('li')\n",
    "  for li in lis:\n",
    "    token = li.find_all('a', href=True)[0]\n",
    "    link = f\"https://www.beeradvocate.com{token['href']}\"\n",
    "    name = token.text\n",
    "\n",
    "    links[name] = [link, group_name]"
   ]
  },
  {
   "cell_type": "code",
   "execution_count": null,
   "metadata": {
    "colab": {
     "base_uri": "https://localhost:8080/",
     "height": 49,
     "referenced_widgets": [
      "85fbb2e9dcda47d38b8ed81b3f79d8b6",
      "95a133b3d0554bd2b53658c1a2306d8c",
      "ff3306c20876460bae0659022586f2e6",
      "182f21a9fdb647efa7ae78602f07dbad",
      "75f09aea88b34ed6a19f89d7532d4370",
      "c72c373426af490cba4fc08767ebb91b",
      "b376fccbe33f4a30a74a649de2d63fda",
      "3a37fa36f455445cb30729f17e761a01",
      "87bcdc616cdd4129a4d37eac6289ee97",
      "f0b0a7e2c8db4a22922b8781b68f6cfc",
      "af3e90442b2a4421bb01e8f8d963e378"
     ]
    },
    "id": "vq599rv5RbwT",
    "outputId": "43d21a3d-d3e4-4dda-b78a-7dcfe66cbb48"
   },
   "outputs": [
    {
     "data": {
      "application/vnd.jupyter.widget-view+json": {
       "model_id": "85fbb2e9dcda47d38b8ed81b3f79d8b6",
       "version_major": 2,
       "version_minor": 0
      },
      "text/plain": [
       "  0%|          | 0/120 [00:00<?, ?it/s]"
      ]
     },
     "metadata": {},
     "output_type": "display_data"
    }
   ],
   "source": [
    "full_information = []\n",
    "\n",
    "for beer_type in tqdm(links, total=len(links)): # all beer types\n",
    "\n",
    "  for page in [0, 50, 100, 150]:\n",
    "    url = f\"{links[beer_type][0]}?sort=revsD&start={page}\"\n",
    "    group_name = links[beer_type][1]\n",
    "    response = requests.get(url)\n",
    "    soup = BeautifulSoup(response.text, 'lxml')\n",
    "    tds = soup.find_all('td', class_='hr_bottom_light')\n",
    "\n",
    "    for i in range(len(tds)): # all beers of choosen type\n",
    "      if i%6 == 0:\n",
    "        company = tds[i].find_all('a')[1].text\n",
    "        name = tds[i].find_all('a')[0].text\n",
    "\n",
    "        profile_link = f\"https://www.beeradvocate.com{tds[i].find_all('a')[0]['href']}\"\n",
    "        resp = requests.get(profile_link)\n",
    "        s = BeautifulSoup(resp.text, 'lxml')\n",
    "\n",
    "        info = {} # all current beer info\n",
    "\n",
    "        info['Name:'] = name \n",
    "        info['Group:'] = group_name\n",
    "\n",
    "        dl = s.find_all('dl', class_='beerstats')[0]\n",
    "        dts = dl.find_all('dt') \n",
    "        dds = dl.find_all('dd')\n",
    "\n",
    "        for i in range(len(dts)):\n",
    "          col = dts[i].text\n",
    "\n",
    "          if i == 1:\n",
    "            col = 'Region:'\n",
    "\n",
    "          t = re.sub('\\n|\\xa0', '', dds[i].text)\n",
    "          t = re.sub('Ranked \\#[0-9,]+$', '', t)\n",
    "          info[col] = t\n",
    "\n",
    "        all_com_info = []\n",
    "        all_rate_info = []\n",
    "\n",
    "        comments = s.find_all('div', class_='user-comment')\n",
    "\n",
    "        for comm in comments: # all comment for current beer\n",
    "          rate = comm.find_all('span', class_='BAscore_norm')\n",
    "\n",
    "          if rate:          \n",
    "            text_review = comm.find_all('div', style=\"margin:20px 0px; font-size:11pt; line-height:1.4;\")[0].text\n",
    "\n",
    "            all_com_info.append(text_review)\n",
    "            all_rate_info.append(rate[0].text)\n",
    "\n",
    "        info['Reviews:'] = all_com_info\n",
    "        info['Rates:'] = all_rate_info\n",
    "        full_information.append(info)\n"
   ]
  },
  {
   "cell_type": "code",
   "execution_count": null,
   "metadata": {
    "id": "UHrzWVnIsA3U"
   },
   "outputs": [],
   "source": [
    "data = {k:[] for k in full_information[0].keys()}\n",
    "\n",
    "for beer in full_information:\n",
    "  for i in range(len(beer['Reviews:'])):\n",
    "    ks = beer.keys()\n",
    "    for k in ks:\n",
    "      if k != 'Reviews:' and k != 'Rates:':\n",
    "        data[k].append(beer[k])\n",
    "    data['Reviews:'].append(beer['Reviews:'][i])\n",
    "    data['Rates:'].append(beer['Rates:'][i])\n"
   ]
  },
  {
   "cell_type": "code",
   "execution_count": null,
   "metadata": {
    "id": "7GzSWDJDs704"
   },
   "outputs": [],
   "source": [
    "import pandas as pd"
   ]
  },
  {
   "cell_type": "code",
   "execution_count": null,
   "metadata": {
    "id": "k_v0Z-4OsIwG"
   },
   "outputs": [],
   "source": [
    "df = pd.DataFrame(data)"
   ]
  },
  {
   "cell_type": "code",
   "execution_count": null,
   "metadata": {
    "id": "Jb2wE3rijjSe"
   },
   "outputs": [],
   "source": [
    "df = df[['Name:', 'From:', 'Group:', 'Region:', 'Style:', 'ABV:', 'Avg:', 'Reviews:', 'Rates:']]"
   ]
  },
  {
   "cell_type": "code",
   "execution_count": null,
   "metadata": {
    "id": "QEREZIDS6mTX"
   },
   "outputs": [],
   "source": [
    "df.rename(columns={'From:':'Company',\n",
    "                   'Name:':'Name',\n",
    "                   'Group:':'Group',\n",
    "                   'Region:':'Region',\n",
    "                   'Style:':'Style',\n",
    "                   'ABV:':'ABV',\n",
    "                   'Avg:':'Avg',\n",
    "                   'Reviews:':'Review',\n",
    "                   'Rates':'Rate'}, inplace=True)"
   ]
  },
  {
   "cell_type": "code",
   "execution_count": null,
   "metadata": {
    "id": "3dCB8MHNFDOH"
   },
   "outputs": [],
   "source": [
    "df.Avg = df.Avg.map(lambda x: re.sub(' \\| .*$', '', x))"
   ]
  },
  {
   "cell_type": "code",
   "execution_count": null,
   "metadata": {
    "id": "wbZKLYda2bqE"
   },
   "outputs": [],
   "source": [
    "df.to_csv('/content/drive/MyDrive/nnlp_project/beer_df_large.csv', sep='\\t', encoding='utf-8', index=False)"
   ]
  },
  {
   "cell_type": "code",
   "execution_count": null,
   "metadata": {
    "colab": {
     "base_uri": "https://localhost:8080/"
    },
    "id": "IyRYyaH25MZE",
    "outputId": "0ebac50c-9f0b-49e1-ed04-9888f20017f7"
   },
   "outputs": [
    {
     "name": "stdout",
     "output_type": "stream",
     "text": [
      "Shape: (174684, 9)\n",
      "\n",
      "Columns: Name, Company, Group, Region, Style, ABV, Avg, Review, Rate\n"
     ]
    }
   ],
   "source": [
    "df = pd.read_csv('/content/drive/MyDrive/nnlp_project/beer_df_large.csv', sep='\\t', encoding='utf-8')\n",
    "\n",
    "print(f\"Shape: {df.shape}\\nColumns: {', '.join(df.columns.to_list())}\")"
   ]
  },
  {
   "cell_type": "code",
   "execution_count": null,
   "metadata": {
    "colab": {
     "base_uri": "https://localhost:8080/",
     "height": 112
    },
    "id": "ITnq67av3NTO",
    "outputId": "adbc10ce-7546-46c0-f52b-3a664e2adf91"
   },
   "outputs": [
    {
     "data": {
      "text/html": [
       "\n",
       "  <div id=\"df-6064ffab-cde2-4195-b77c-6c8f057fd7cb\">\n",
       "    <div class=\"colab-df-container\">\n",
       "      <div>\n",
       "<style scoped>\n",
       "    .dataframe tbody tr th:only-of-type {\n",
       "        vertical-align: middle;\n",
       "    }\n",
       "\n",
       "    .dataframe tbody tr th {\n",
       "        vertical-align: top;\n",
       "    }\n",
       "\n",
       "    .dataframe thead th {\n",
       "        text-align: right;\n",
       "    }\n",
       "</style>\n",
       "<table border=\"1\" class=\"dataframe\">\n",
       "  <thead>\n",
       "    <tr style=\"text-align: right;\">\n",
       "      <th></th>\n",
       "      <th>Name</th>\n",
       "      <th>Company</th>\n",
       "      <th>Group</th>\n",
       "      <th>Region</th>\n",
       "      <th>Style</th>\n",
       "      <th>ABV</th>\n",
       "      <th>Avg</th>\n",
       "      <th>Review</th>\n",
       "      <th>Rate</th>\n",
       "    </tr>\n",
       "  </thead>\n",
       "  <tbody>\n",
       "    <tr>\n",
       "      <th>0</th>\n",
       "      <td>Shiner Bock</td>\n",
       "      <td>Spoetzl Brewery</td>\n",
       "      <td>Bocks</td>\n",
       "      <td>Texas, United States</td>\n",
       "      <td>Bock</td>\n",
       "      <td>4.5%</td>\n",
       "      <td>3.21</td>\n",
       "      <td>From a 12oz bottle into a cocktail glass.\\n\\nC...</td>\n",
       "      <td>3.66</td>\n",
       "    </tr>\n",
       "    <tr>\n",
       "      <th>1</th>\n",
       "      <td>Shiner Bock</td>\n",
       "      <td>Spoetzl Brewery</td>\n",
       "      <td>Bocks</td>\n",
       "      <td>Texas, United States</td>\n",
       "      <td>Bock</td>\n",
       "      <td>4.5%</td>\n",
       "      <td>3.21</td>\n",
       "      <td>Great relaxing beer. Very mellow, great taste-...</td>\n",
       "      <td>4.10</td>\n",
       "    </tr>\n",
       "  </tbody>\n",
       "</table>\n",
       "</div>\n",
       "      <button class=\"colab-df-convert\" onclick=\"convertToInteractive('df-6064ffab-cde2-4195-b77c-6c8f057fd7cb')\"\n",
       "              title=\"Convert this dataframe to an interactive table.\"\n",
       "              style=\"display:none;\">\n",
       "        \n",
       "  <svg xmlns=\"http://www.w3.org/2000/svg\" height=\"24px\"viewBox=\"0 0 24 24\"\n",
       "       width=\"24px\">\n",
       "    <path d=\"M0 0h24v24H0V0z\" fill=\"none\"/>\n",
       "    <path d=\"M18.56 5.44l.94 2.06.94-2.06 2.06-.94-2.06-.94-.94-2.06-.94 2.06-2.06.94zm-11 1L8.5 8.5l.94-2.06 2.06-.94-2.06-.94L8.5 2.5l-.94 2.06-2.06.94zm10 10l.94 2.06.94-2.06 2.06-.94-2.06-.94-.94-2.06-.94 2.06-2.06.94z\"/><path d=\"M17.41 7.96l-1.37-1.37c-.4-.4-.92-.59-1.43-.59-.52 0-1.04.2-1.43.59L10.3 9.45l-7.72 7.72c-.78.78-.78 2.05 0 2.83L4 21.41c.39.39.9.59 1.41.59.51 0 1.02-.2 1.41-.59l7.78-7.78 2.81-2.81c.8-.78.8-2.07 0-2.86zM5.41 20L4 18.59l7.72-7.72 1.47 1.35L5.41 20z\"/>\n",
       "  </svg>\n",
       "      </button>\n",
       "      \n",
       "  <style>\n",
       "    .colab-df-container {\n",
       "      display:flex;\n",
       "      flex-wrap:wrap;\n",
       "      gap: 12px;\n",
       "    }\n",
       "\n",
       "    .colab-df-convert {\n",
       "      background-color: #E8F0FE;\n",
       "      border: none;\n",
       "      border-radius: 50%;\n",
       "      cursor: pointer;\n",
       "      display: none;\n",
       "      fill: #1967D2;\n",
       "      height: 32px;\n",
       "      padding: 0 0 0 0;\n",
       "      width: 32px;\n",
       "    }\n",
       "\n",
       "    .colab-df-convert:hover {\n",
       "      background-color: #E2EBFA;\n",
       "      box-shadow: 0px 1px 2px rgba(60, 64, 67, 0.3), 0px 1px 3px 1px rgba(60, 64, 67, 0.15);\n",
       "      fill: #174EA6;\n",
       "    }\n",
       "\n",
       "    [theme=dark] .colab-df-convert {\n",
       "      background-color: #3B4455;\n",
       "      fill: #D2E3FC;\n",
       "    }\n",
       "\n",
       "    [theme=dark] .colab-df-convert:hover {\n",
       "      background-color: #434B5C;\n",
       "      box-shadow: 0px 1px 3px 1px rgba(0, 0, 0, 0.15);\n",
       "      filter: drop-shadow(0px 1px 2px rgba(0, 0, 0, 0.3));\n",
       "      fill: #FFFFFF;\n",
       "    }\n",
       "  </style>\n",
       "\n",
       "      <script>\n",
       "        const buttonEl =\n",
       "          document.querySelector('#df-6064ffab-cde2-4195-b77c-6c8f057fd7cb button.colab-df-convert');\n",
       "        buttonEl.style.display =\n",
       "          google.colab.kernel.accessAllowed ? 'block' : 'none';\n",
       "\n",
       "        async function convertToInteractive(key) {\n",
       "          const element = document.querySelector('#df-6064ffab-cde2-4195-b77c-6c8f057fd7cb');\n",
       "          const dataTable =\n",
       "            await google.colab.kernel.invokeFunction('convertToInteractive',\n",
       "                                                     [key], {});\n",
       "          if (!dataTable) return;\n",
       "\n",
       "          const docLinkHtml = 'Like what you see? Visit the ' +\n",
       "            '<a target=\"_blank\" href=https://colab.research.google.com/notebooks/data_table.ipynb>data table notebook</a>'\n",
       "            + ' to learn more about interactive tables.';\n",
       "          element.innerHTML = '';\n",
       "          dataTable['output_type'] = 'display_data';\n",
       "          await google.colab.output.renderOutput(dataTable, element);\n",
       "          const docLink = document.createElement('div');\n",
       "          docLink.innerHTML = docLinkHtml;\n",
       "          element.appendChild(docLink);\n",
       "        }\n",
       "      </script>\n",
       "    </div>\n",
       "  </div>\n",
       "  "
      ],
      "text/plain": [
       "          Name          Company  Group                Region Style    ABV  \\\n",
       "0  Shiner Bock  Spoetzl Brewery  Bocks  Texas, United States  Bock   4.5%   \n",
       "1  Shiner Bock  Spoetzl Brewery  Bocks  Texas, United States  Bock   4.5%   \n",
       "\n",
       "    Avg                                             Review  Rate  \n",
       "0  3.21  From a 12oz bottle into a cocktail glass.\\n\\nC...  3.66  \n",
       "1  3.21  Great relaxing beer. Very mellow, great taste-...  4.10  "
      ]
     },
     "execution_count": 112,
     "metadata": {},
     "output_type": "execute_result"
    }
   ],
   "source": [
    "df.head(2)"
   ]
  },
  {
   "cell_type": "code",
   "execution_count": null,
   "metadata": {
    "id": "Flh6EdyK74ZV"
   },
   "outputs": [],
   "source": [
    "df = df[df.Review.notna()]"
   ]
  },
  {
   "cell_type": "code",
   "execution_count": null,
   "metadata": {
    "colab": {
     "base_uri": "https://localhost:8080/"
    },
    "id": "rIBQlRLxXYHL",
    "outputId": "92755804-f341-4f8c-8b82-285b6e22125e"
   },
   "outputs": [
    {
     "data": {
      "text/plain": [
       "Pale Lagers        26816\n",
       "Pale Ales          23130\n",
       "Strong Ales        20756\n",
       "Stouts             16739\n",
       "India Pale Ales    14166\n",
       "Wild/Sour Beers    13324\n",
       "Specialty Beers    12199\n",
       "Dark Lagers        12173\n",
       "Porters             9504\n",
       "Wheat Beers         8469\n",
       "Brown Ales          6987\n",
       "Bocks               5816\n",
       "Dark Ales           4605\n",
       "Name: Group, dtype: int64"
      ]
     },
     "execution_count": 114,
     "metadata": {},
     "output_type": "execute_result"
    }
   ],
   "source": [
    "df['Group'].value_counts()"
   ]
  },
  {
   "cell_type": "code",
   "execution_count": null,
   "metadata": {
    "colab": {
     "base_uri": "https://localhost:8080/",
     "height": 575
    },
    "id": "S8YbEyBI9T5z",
    "outputId": "e90de500-b48d-4f95-ced9-7e3241bcbdd1"
   },
   "outputs": [
    {
     "data": {
      "image/png": "[encoded data removed]",
      "text/plain": [
       "<Figure size 864x576 with 1 Axes>"
      ]
     },
     "metadata": {},
     "output_type": "display_data"
    }
   ],
   "source": [
    "chart = sns.countplot(df.Group)\n",
    "plt.title(\"Number of reviews for each group\")\n",
    "chart.set_xticklabels(chart.get_xticklabels(), rotation=30, horizontalalignment='right');"
   ]
  },
  {
   "cell_type": "code",
   "execution_count": null,
   "metadata": {
    "id": "SusZi7JBAMF_"
   },
   "outputs": [],
   "source": [
    "sampled = pd.DataFrame()\n",
    "max_len = 10000\n",
    "\n",
    "for name, i in df.Group.value_counts().iteritems():\n",
    "    if i > max_len:\n",
    "        temp_df = df[df.Group == name]\n",
    "        temp_df = shuffle(temp_df, random_state=1337)\n",
    "        temp_df = temp_df.iloc[0:max_len]\n",
    "        sampled = sampled.append(temp_df)\n",
    "    else:\n",
    "        sampled = sampled.append(df[df.Group == name])"
   ]
  },
  {
   "cell_type": "code",
   "execution_count": null,
   "metadata": {
    "colab": {
     "base_uri": "https://localhost:8080/",
     "height": 575
    },
    "id": "fgSCqWN8BEXF",
    "outputId": "a6ed1943-f2c1-4a54-dc2b-8bccb10cb26f"
   },
   "outputs": [
    {
     "data": {
      "image/png": "[encoded data removed]",
      "text/plain": [
       "<Figure size 864x576 with 1 Axes>"
      ]
     },
     "metadata": {},
     "output_type": "display_data"
    }
   ],
   "source": [
    "chart = sns.countplot(sampled.Group)\n",
    "plt.title(\"Number of reviews for each group\")\n",
    "chart.set_xticklabels(chart.get_xticklabels(), rotation=30, horizontalalignment='right');"
   ]
  },
  {
   "cell_type": "code",
   "execution_count": null,
   "metadata": {
    "colab": {
     "base_uri": "https://localhost:8080/",
     "height": 206
    },
    "id": "UxUQ81C-AMTO",
    "outputId": "7ea2c2c4-d1a2-4353-b27c-d630f6853ff5"
   },
   "outputs": [
    {
     "data": {
      "text/html": [
       "\n",
       "  <div id=\"df-19b19201-2a31-4206-80ed-fc6df28cc52f\">\n",
       "    <div class=\"colab-df-container\">\n",
       "      <div>\n",
       "<style scoped>\n",
       "    .dataframe tbody tr th:only-of-type {\n",
       "        vertical-align: middle;\n",
       "    }\n",
       "\n",
       "    .dataframe tbody tr th {\n",
       "        vertical-align: top;\n",
       "    }\n",
       "\n",
       "    .dataframe thead th {\n",
       "        text-align: right;\n",
       "    }\n",
       "</style>\n",
       "<table border=\"1\" class=\"dataframe\">\n",
       "  <thead>\n",
       "    <tr style=\"text-align: right;\">\n",
       "      <th></th>\n",
       "      <th>Name</th>\n",
       "      <th>Company</th>\n",
       "      <th>Group</th>\n",
       "      <th>Region</th>\n",
       "      <th>Style</th>\n",
       "      <th>ABV</th>\n",
       "      <th>Avg</th>\n",
       "      <th>Review</th>\n",
       "      <th>Rate</th>\n",
       "    </tr>\n",
       "  </thead>\n",
       "  <tbody>\n",
       "    <tr>\n",
       "      <th>68715</th>\n",
       "      <td>Regia Extra</td>\n",
       "      <td>Cerveceria La Constancia S.A. / BevCo Ltd</td>\n",
       "      <td>Pale Lagers</td>\n",
       "      <td>El Salvador</td>\n",
       "      <td>American Adjunct Lager</td>\n",
       "      <td>5.3%</td>\n",
       "      <td>3.11</td>\n",
       "      <td>Good take on an adjunct lager. Smooth, easy to...</td>\n",
       "      <td>3.89</td>\n",
       "    </tr>\n",
       "    <tr>\n",
       "      <th>74159</th>\n",
       "      <td>Costa Kick Plastic Pilsner</td>\n",
       "      <td>SweetWater Brewing Company</td>\n",
       "      <td>Pale Lagers</td>\n",
       "      <td>Georgia, United States</td>\n",
       "      <td>Bohemian / Czech Pilsner</td>\n",
       "      <td>5.3%</td>\n",
       "      <td>3.74</td>\n",
       "      <td>Pours a really nice dark gold with inch of whi...</td>\n",
       "      <td>3.94</td>\n",
       "    </tr>\n",
       "    <tr>\n",
       "      <th>73575</th>\n",
       "      <td>Red Racer Pilsner</td>\n",
       "      <td>Central City Brewers + Distillers</td>\n",
       "      <td>Pale Lagers</td>\n",
       "      <td>British Columbia, Canada</td>\n",
       "      <td>Bohemian / Czech Pilsner</td>\n",
       "      <td>5%</td>\n",
       "      <td>3.59</td>\n",
       "      <td>A: Transparent pale yellow and a frothy white ...</td>\n",
       "      <td>3.52</td>\n",
       "    </tr>\n",
       "    <tr>\n",
       "      <th>75712</th>\n",
       "      <td>Ovce 12º</td>\n",
       "      <td>Cohesion Brewing</td>\n",
       "      <td>Pale Lagers</td>\n",
       "      <td>Colorado, United States</td>\n",
       "      <td>Czech Pale Lager</td>\n",
       "      <td>4.8%</td>\n",
       "      <td>4.06</td>\n",
       "      <td>L: Pours a slightly cloudy yellow orange color...</td>\n",
       "      <td>4.37</td>\n",
       "    </tr>\n",
       "    <tr>\n",
       "      <th>86214</th>\n",
       "      <td>Helles Lager</td>\n",
       "      <td>Tivoli Brewing Company</td>\n",
       "      <td>Pale Lagers</td>\n",
       "      <td>Colorado, United States</td>\n",
       "      <td>Helles</td>\n",
       "      <td>5.1%</td>\n",
       "      <td>3.69</td>\n",
       "      <td>12oz can stamped 04/16/20 (assuming canned on ...</td>\n",
       "      <td>3.58</td>\n",
       "    </tr>\n",
       "  </tbody>\n",
       "</table>\n",
       "</div>\n",
       "      <button class=\"colab-df-convert\" onclick=\"convertToInteractive('df-19b19201-2a31-4206-80ed-fc6df28cc52f')\"\n",
       "              title=\"Convert this dataframe to an interactive table.\"\n",
       "              style=\"display:none;\">\n",
       "        \n",
       "  <svg xmlns=\"http://www.w3.org/2000/svg\" height=\"24px\"viewBox=\"0 0 24 24\"\n",
       "       width=\"24px\">\n",
       "    <path d=\"M0 0h24v24H0V0z\" fill=\"none\"/>\n",
       "    <path d=\"M18.56 5.44l.94 2.06.94-2.06 2.06-.94-2.06-.94-.94-2.06-.94 2.06-2.06.94zm-11 1L8.5 8.5l.94-2.06 2.06-.94-2.06-.94L8.5 2.5l-.94 2.06-2.06.94zm10 10l.94 2.06.94-2.06 2.06-.94-2.06-.94-.94-2.06-.94 2.06-2.06.94z\"/><path d=\"M17.41 7.96l-1.37-1.37c-.4-.4-.92-.59-1.43-.59-.52 0-1.04.2-1.43.59L10.3 9.45l-7.72 7.72c-.78.78-.78 2.05 0 2.83L4 21.41c.39.39.9.59 1.41.59.51 0 1.02-.2 1.41-.59l7.78-7.78 2.81-2.81c.8-.78.8-2.07 0-2.86zM5.41 20L4 18.59l7.72-7.72 1.47 1.35L5.41 20z\"/>\n",
       "  </svg>\n",
       "      </button>\n",
       "      \n",
       "  <style>\n",
       "    .colab-df-container {\n",
       "      display:flex;\n",
       "      flex-wrap:wrap;\n",
       "      gap: 12px;\n",
       "    }\n",
       "\n",
       "    .colab-df-convert {\n",
       "      background-color: #E8F0FE;\n",
       "      border: none;\n",
       "      border-radius: 50%;\n",
       "      cursor: pointer;\n",
       "      display: none;\n",
       "      fill: #1967D2;\n",
       "      height: 32px;\n",
       "      padding: 0 0 0 0;\n",
       "      width: 32px;\n",
       "    }\n",
       "\n",
       "    .colab-df-convert:hover {\n",
       "      background-color: #E2EBFA;\n",
       "      box-shadow: 0px 1px 2px rgba(60, 64, 67, 0.3), 0px 1px 3px 1px rgba(60, 64, 67, 0.15);\n",
       "      fill: #174EA6;\n",
       "    }\n",
       "\n",
       "    [theme=dark] .colab-df-convert {\n",
       "      background-color: #3B4455;\n",
       "      fill: #D2E3FC;\n",
       "    }\n",
       "\n",
       "    [theme=dark] .colab-df-convert:hover {\n",
       "      background-color: #434B5C;\n",
       "      box-shadow: 0px 1px 3px 1px rgba(0, 0, 0, 0.15);\n",
       "      filter: drop-shadow(0px 1px 2px rgba(0, 0, 0, 0.3));\n",
       "      fill: #FFFFFF;\n",
       "    }\n",
       "  </style>\n",
       "\n",
       "      <script>\n",
       "        const buttonEl =\n",
       "          document.querySelector('#df-19b19201-2a31-4206-80ed-fc6df28cc52f button.colab-df-convert');\n",
       "        buttonEl.style.display =\n",
       "          google.colab.kernel.accessAllowed ? 'block' : 'none';\n",
       "\n",
       "        async function convertToInteractive(key) {\n",
       "          const element = document.querySelector('#df-19b19201-2a31-4206-80ed-fc6df28cc52f');\n",
       "          const dataTable =\n",
       "            await google.colab.kernel.invokeFunction('convertToInteractive',\n",
       "                                                     [key], {});\n",
       "          if (!dataTable) return;\n",
       "\n",
       "          const docLinkHtml = 'Like what you see? Visit the ' +\n",
       "            '<a target=\"_blank\" href=https://colab.research.google.com/notebooks/data_table.ipynb>data table notebook</a>'\n",
       "            + ' to learn more about interactive tables.';\n",
       "          element.innerHTML = '';\n",
       "          dataTable['output_type'] = 'display_data';\n",
       "          await google.colab.output.renderOutput(dataTable, element);\n",
       "          const docLink = document.createElement('div');\n",
       "          docLink.innerHTML = docLinkHtml;\n",
       "          element.appendChild(docLink);\n",
       "        }\n",
       "      </script>\n",
       "    </div>\n",
       "  </div>\n",
       "  "
      ],
      "text/plain": [
       "                             Name                                    Company  \\\n",
       "68715                 Regia Extra  Cerveceria La Constancia S.A. / BevCo Ltd   \n",
       "74159  Costa Kick Plastic Pilsner                 SweetWater Brewing Company   \n",
       "73575           Red Racer Pilsner          Central City Brewers + Distillers   \n",
       "75712                    Ovce 12º                           Cohesion Brewing   \n",
       "86214                Helles Lager                     Tivoli Brewing Company   \n",
       "\n",
       "             Group                    Region                     Style    ABV  \\\n",
       "68715  Pale Lagers               El Salvador    American Adjunct Lager   5.3%   \n",
       "74159  Pale Lagers    Georgia, United States  Bohemian / Czech Pilsner   5.3%   \n",
       "73575  Pale Lagers  British Columbia, Canada  Bohemian / Czech Pilsner     5%   \n",
       "75712  Pale Lagers   Colorado, United States          Czech Pale Lager   4.8%   \n",
       "86214  Pale Lagers   Colorado, United States                    Helles   5.1%   \n",
       "\n",
       "        Avg                                             Review  Rate  \n",
       "68715  3.11  Good take on an adjunct lager. Smooth, easy to...  3.89  \n",
       "74159  3.74  Pours a really nice dark gold with inch of whi...  3.94  \n",
       "73575  3.59  A: Transparent pale yellow and a frothy white ...  3.52  \n",
       "75712  4.06  L: Pours a slightly cloudy yellow orange color...  4.37  \n",
       "86214  3.69  12oz can stamped 04/16/20 (assuming canned on ...  3.58  "
      ]
     },
     "execution_count": 119,
     "metadata": {},
     "output_type": "execute_result"
    }
   ],
   "source": [
    "sampled.head()"
   ]
  },
  {
   "cell_type": "code",
   "execution_count": null,
   "metadata": {
    "id": "tGaKDCnbEL3-"
   },
   "outputs": [],
   "source": [
    "gr, mean_l = [], []\n",
    "for g in sampled.Group.unique():\n",
    "  mean_l.append(mean(df[df.Group==g].Review.map(lambda x: len(str(x)))))\n",
    "  gr.append(g)"
   ]
  },
  {
   "cell_type": "code",
   "execution_count": null,
   "metadata": {
    "colab": {
     "base_uri": "https://localhost:8080/",
     "height": 356
    },
    "id": "M7HwxPkdC_Ps",
    "outputId": "506fa302-c268-4a50-cd3f-33db8dff1441"
   },
   "outputs": [
    {
     "data": {
      "text/plain": [
       "<AxesSubplot:xlabel='Group', ylabel='Mean review length'>"
      ]
     },
     "execution_count": 121,
     "metadata": {},
     "output_type": "execute_result"
    },
    {
     "data": {
      "image/png": "[encoded data removed]",
      "text/plain": [
       "<Figure size 1512x360 with 1 Axes>"
      ]
     },
     "metadata": {},
     "output_type": "display_data"
    }
   ],
   "source": [
    "sns.set(rc={'figure.figsize':(21,5)})\n",
    "\n",
    "sns.lineplot(\n",
    "    x='Group', \n",
    "    y='Mean review length',\n",
    "    data=pd.DataFrame({'Group': gr, 'Mean review length': mean_l}))"
   ]
  },
  {
   "cell_type": "code",
   "execution_count": null,
   "metadata": {
    "colab": {
     "base_uri": "https://localhost:8080/"
    },
    "id": "tHuwoOeM2szh",
    "outputId": "d9fc6754-4f1f-4a11-c499-e6d63e31eb4e"
   },
   "outputs": [
    {
     "name": "stdout",
     "output_type": "stream",
     "text": [
      "Средняя длина отзыва: 524 слова\n"
     ]
    }
   ],
   "source": [
    "print(f'Средняя длина отзыва: {round(mean(df.Review.map(lambda x: len(str(x)))))} слова')"
   ]
  },
  {
   "cell_type": "markdown",
   "metadata": {
    "id": "dhimsXRgj3k0"
   },
   "source": [
    "# Classification 1."
   ]
  },
  {
   "cell_type": "code",
   "execution_count": null,
   "metadata": {
    "id": "8d4T2gADhW7C"
   },
   "outputs": [],
   "source": [
    "!pip install transformers"
   ]
  },
  {
   "cell_type": "code",
   "execution_count": 1,
   "metadata": {
    "id": "gI9VWEW4l19T",
    "tags": []
   },
   "outputs": [],
   "source": [
    "from transformers import BertTokenizer\n",
    "import torch\n",
    "import numpy as np\n",
    "from torch import nn\n",
    "from transformers import BertModel\n",
    "from torch.optim import Adam\n",
    "from tqdm import tqdm\n",
    "import pandas as pd\n",
    "from sklearn.metrics import confusion_matrix"
   ]
  },
  {
   "cell_type": "code",
   "execution_count": null,
   "metadata": {
    "id": "88TzLcQIhmWB"
   },
   "outputs": [],
   "source": [
    "!pip install gdown"
   ]
  },
  {
   "cell_type": "code",
   "execution_count": null,
   "metadata": {
    "colab": {
     "base_uri": "https://localhost:8080/"
    },
    "id": "zP0vNWTchq7X",
    "outputId": "d151225b-57d0-4038-e4ef-885512d7e007"
   },
   "outputs": [],
   "source": [
    "!gdown https://drive.google.com/uc?id=1bmr04biWB-NWRbRYbO3XBA33ltROqk47"
   ]
  },
  {
   "cell_type": "code",
   "execution_count": 2,
   "metadata": {
    "id": "CfoVpFBij25G",
    "tags": []
   },
   "outputs": [],
   "source": [
    "df = pd.read_csv(\"beer_df_large.csv\", sep=\"\\t\")"
   ]
  },
  {
   "cell_type": "code",
   "execution_count": 3,
   "metadata": {
    "id": "QSQWiK1pk8ck",
    "tags": []
   },
   "outputs": [],
   "source": [
    "df = df.drop(columns=['Name', 'Company', 'Region', 'ABV', 'Avg', 'Rate'])"
   ]
  },
  {
   "cell_type": "code",
   "execution_count": 4,
   "metadata": {
    "colab": {
     "base_uri": "https://localhost:8080/",
     "height": 423
    },
    "id": "h4s8QJSJklIX",
    "outputId": "4d25c7c8-4505-4881-b2d1-11fb401c43c9"
   },
   "outputs": [
    {
     "data": {
      "text/html": [
       "<div>\n",
       "<style scoped>\n",
       "    .dataframe tbody tr th:only-of-type {\n",
       "        vertical-align: middle;\n",
       "    }\n",
       "\n",
       "    .dataframe tbody tr th {\n",
       "        vertical-align: top;\n",
       "    }\n",
       "\n",
       "    .dataframe thead th {\n",
       "        text-align: right;\n",
       "    }\n",
       "</style>\n",
       "<table border=\"1\" class=\"dataframe\">\n",
       "  <thead>\n",
       "    <tr style=\"text-align: right;\">\n",
       "      <th></th>\n",
       "      <th>Group</th>\n",
       "      <th>Style</th>\n",
       "      <th>Review</th>\n",
       "    </tr>\n",
       "  </thead>\n",
       "  <tbody>\n",
       "    <tr>\n",
       "      <th>0</th>\n",
       "      <td>Bocks</td>\n",
       "      <td>Bock</td>\n",
       "      <td>From a 12oz bottle into a cocktail glass.\\n\\nC...</td>\n",
       "    </tr>\n",
       "    <tr>\n",
       "      <th>1</th>\n",
       "      <td>Bocks</td>\n",
       "      <td>Bock</td>\n",
       "      <td>Great relaxing beer. Very mellow, great taste-...</td>\n",
       "    </tr>\n",
       "    <tr>\n",
       "      <th>2</th>\n",
       "      <td>Bocks</td>\n",
       "      <td>Bock</td>\n",
       "      <td>Appearance: Clear, bright copper color. Frothy...</td>\n",
       "    </tr>\n",
       "    <tr>\n",
       "      <th>3</th>\n",
       "      <td>Bocks</td>\n",
       "      <td>Bock</td>\n",
       "      <td>As a German staying for holidays in the US I c...</td>\n",
       "    </tr>\n",
       "    <tr>\n",
       "      <th>4</th>\n",
       "      <td>Bocks</td>\n",
       "      <td>Bock</td>\n",
       "      <td>I would guess this is Shiner's #1 beer. It's p...</td>\n",
       "    </tr>\n",
       "    <tr>\n",
       "      <th>...</th>\n",
       "      <td>...</td>\n",
       "      <td>...</td>\n",
       "      <td>...</td>\n",
       "    </tr>\n",
       "    <tr>\n",
       "      <th>174679</th>\n",
       "      <td>Wild/Sour Beers</td>\n",
       "      <td>Wild Ale</td>\n",
       "      <td>A really well done, well balanced sour with an...</td>\n",
       "    </tr>\n",
       "    <tr>\n",
       "      <th>174680</th>\n",
       "      <td>Wild/Sour Beers</td>\n",
       "      <td>Wild Ale</td>\n",
       "      <td>22oz bottle. Poured out a slightly hazy, brigh...</td>\n",
       "    </tr>\n",
       "    <tr>\n",
       "      <th>174681</th>\n",
       "      <td>Wild/Sour Beers</td>\n",
       "      <td>Wild Ale</td>\n",
       "      <td>There's lots of apricot in this beer, just a t...</td>\n",
       "    </tr>\n",
       "    <tr>\n",
       "      <th>174682</th>\n",
       "      <td>Wild/Sour Beers</td>\n",
       "      <td>Wild Ale</td>\n",
       "      <td>Poured from a 22oz bomber into my Drie de Font...</td>\n",
       "    </tr>\n",
       "    <tr>\n",
       "      <th>174683</th>\n",
       "      <td>Wild/Sour Beers</td>\n",
       "      <td>Wild Ale</td>\n",
       "      <td>Got this on sale at HEB for $7. Pretty good de...</td>\n",
       "    </tr>\n",
       "  </tbody>\n",
       "</table>\n",
       "<p>174684 rows × 3 columns</p>\n",
       "</div>"
      ],
      "text/plain": [
       "                  Group     Style  \\\n",
       "0                 Bocks      Bock   \n",
       "1                 Bocks      Bock   \n",
       "2                 Bocks      Bock   \n",
       "3                 Bocks      Bock   \n",
       "4                 Bocks      Bock   \n",
       "...                 ...       ...   \n",
       "174679  Wild/Sour Beers  Wild Ale   \n",
       "174680  Wild/Sour Beers  Wild Ale   \n",
       "174681  Wild/Sour Beers  Wild Ale   \n",
       "174682  Wild/Sour Beers  Wild Ale   \n",
       "174683  Wild/Sour Beers  Wild Ale   \n",
       "\n",
       "                                                   Review  \n",
       "0       From a 12oz bottle into a cocktail glass.\\n\\nC...  \n",
       "1       Great relaxing beer. Very mellow, great taste-...  \n",
       "2       Appearance: Clear, bright copper color. Frothy...  \n",
       "3       As a German staying for holidays in the US I c...  \n",
       "4       I would guess this is Shiner's #1 beer. It's p...  \n",
       "...                                                   ...  \n",
       "174679  A really well done, well balanced sour with an...  \n",
       "174680  22oz bottle. Poured out a slightly hazy, brigh...  \n",
       "174681  There's lots of apricot in this beer, just a t...  \n",
       "174682  Poured from a 22oz bomber into my Drie de Font...  \n",
       "174683  Got this on sale at HEB for $7. Pretty good de...  \n",
       "\n",
       "[174684 rows x 3 columns]"
      ]
     },
     "execution_count": 4,
     "metadata": {},
     "output_type": "execute_result"
    }
   ],
   "source": [
    "df"
   ]
  },
  {
   "cell_type": "code",
   "execution_count": 5,
   "metadata": {
    "id": "sgsQuYvakImj"
   },
   "outputs": [],
   "source": [
    "df['Review'] = df.apply(lambda x: 'Group: {}. Review: {}'.format(x['Group'], x['Review']), axis=1)\n",
    "df = df.drop('Group', axis=1)"
   ]
  },
  {
   "cell_type": "code",
   "execution_count": 6,
   "metadata": {
    "colab": {
     "base_uri": "https://localhost:8080/",
     "height": 423
    },
    "id": "BIqPka3ylDuG",
    "outputId": "401f3531-da9d-42ca-ada4-ca3b7b542ac4"
   },
   "outputs": [
    {
     "data": {
      "text/html": [
       "<div>\n",
       "<style scoped>\n",
       "    .dataframe tbody tr th:only-of-type {\n",
       "        vertical-align: middle;\n",
       "    }\n",
       "\n",
       "    .dataframe tbody tr th {\n",
       "        vertical-align: top;\n",
       "    }\n",
       "\n",
       "    .dataframe thead th {\n",
       "        text-align: right;\n",
       "    }\n",
       "</style>\n",
       "<table border=\"1\" class=\"dataframe\">\n",
       "  <thead>\n",
       "    <tr style=\"text-align: right;\">\n",
       "      <th></th>\n",
       "      <th>Style</th>\n",
       "      <th>Review</th>\n",
       "    </tr>\n",
       "  </thead>\n",
       "  <tbody>\n",
       "    <tr>\n",
       "      <th>0</th>\n",
       "      <td>Bock</td>\n",
       "      <td>Group: Bocks. Review: From a 12oz bottle into ...</td>\n",
       "    </tr>\n",
       "    <tr>\n",
       "      <th>1</th>\n",
       "      <td>Bock</td>\n",
       "      <td>Group: Bocks. Review: Great relaxing beer. Ver...</td>\n",
       "    </tr>\n",
       "    <tr>\n",
       "      <th>2</th>\n",
       "      <td>Bock</td>\n",
       "      <td>Group: Bocks. Review: Appearance: Clear, brigh...</td>\n",
       "    </tr>\n",
       "    <tr>\n",
       "      <th>3</th>\n",
       "      <td>Bock</td>\n",
       "      <td>Group: Bocks. Review: As a German staying for ...</td>\n",
       "    </tr>\n",
       "    <tr>\n",
       "      <th>4</th>\n",
       "      <td>Bock</td>\n",
       "      <td>Group: Bocks. Review: I would guess this is Sh...</td>\n",
       "    </tr>\n",
       "    <tr>\n",
       "      <th>...</th>\n",
       "      <td>...</td>\n",
       "      <td>...</td>\n",
       "    </tr>\n",
       "    <tr>\n",
       "      <th>174679</th>\n",
       "      <td>Wild Ale</td>\n",
       "      <td>Group: Wild/Sour Beers. Review: A really well ...</td>\n",
       "    </tr>\n",
       "    <tr>\n",
       "      <th>174680</th>\n",
       "      <td>Wild Ale</td>\n",
       "      <td>Group: Wild/Sour Beers. Review: 22oz bottle. P...</td>\n",
       "    </tr>\n",
       "    <tr>\n",
       "      <th>174681</th>\n",
       "      <td>Wild Ale</td>\n",
       "      <td>Group: Wild/Sour Beers. Review: There's lots o...</td>\n",
       "    </tr>\n",
       "    <tr>\n",
       "      <th>174682</th>\n",
       "      <td>Wild Ale</td>\n",
       "      <td>Group: Wild/Sour Beers. Review: Poured from a ...</td>\n",
       "    </tr>\n",
       "    <tr>\n",
       "      <th>174683</th>\n",
       "      <td>Wild Ale</td>\n",
       "      <td>Group: Wild/Sour Beers. Review: Got this on sa...</td>\n",
       "    </tr>\n",
       "  </tbody>\n",
       "</table>\n",
       "<p>174684 rows × 2 columns</p>\n",
       "</div>"
      ],
      "text/plain": [
       "           Style                                             Review\n",
       "0           Bock  Group: Bocks. Review: From a 12oz bottle into ...\n",
       "1           Bock  Group: Bocks. Review: Great relaxing beer. Ver...\n",
       "2           Bock  Group: Bocks. Review: Appearance: Clear, brigh...\n",
       "3           Bock  Group: Bocks. Review: As a German staying for ...\n",
       "4           Bock  Group: Bocks. Review: I would guess this is Sh...\n",
       "...          ...                                                ...\n",
       "174679  Wild Ale  Group: Wild/Sour Beers. Review: A really well ...\n",
       "174680  Wild Ale  Group: Wild/Sour Beers. Review: 22oz bottle. P...\n",
       "174681  Wild Ale  Group: Wild/Sour Beers. Review: There's lots o...\n",
       "174682  Wild Ale  Group: Wild/Sour Beers. Review: Poured from a ...\n",
       "174683  Wild Ale  Group: Wild/Sour Beers. Review: Got this on sa...\n",
       "\n",
       "[174684 rows x 2 columns]"
      ]
     },
     "execution_count": 6,
     "metadata": {},
     "output_type": "execute_result"
    }
   ],
   "source": [
    "df"
   ]
  },
  {
   "cell_type": "code",
   "execution_count": 7,
   "metadata": {
    "id": "XKD5DP_9lUW2",
    "tags": []
   },
   "outputs": [],
   "source": [
    "tokenizer = BertTokenizer.from_pretrained('bert-base-cased')"
   ]
  },
  {
   "cell_type": "code",
   "execution_count": 8,
   "metadata": {
    "id": "1T2nCFLymeVD",
    "tags": []
   },
   "outputs": [],
   "source": [
    "labels = {}\n",
    "for i, name in enumerate(df['Style'].value_counts().index.tolist()):\n",
    "  labels[name] = i"
   ]
  },
  {
   "cell_type": "code",
   "execution_count": 9,
   "metadata": {
    "colab": {
     "base_uri": "https://localhost:8080/"
    },
    "id": "V1GCMMJVmn22",
    "outputId": "2d560ec9-f467-4d4c-d08b-9046e3a46ed3",
    "tags": []
   },
   "outputs": [
    {
     "data": {
      "text/plain": [
       "{'American Adjunct Lager': 0,\n",
       " 'Märzen': 1,\n",
       " 'German Pilsner': 2,\n",
       " 'European Pale Lager': 3,\n",
       " 'American Lager': 4,\n",
       " 'Helles': 5,\n",
       " 'Russian Imperial Stout': 6,\n",
       " 'American Imperial Stout': 7,\n",
       " 'Bohemian / Czech Pilsner': 8,\n",
       " 'Sweet / Milk Stout': 9,\n",
       " 'Imperial IPA': 10,\n",
       " 'Tripel': 11,\n",
       " 'American Porter': 12,\n",
       " 'American Stout': 13,\n",
       " 'American IPA': 14,\n",
       " 'English Pale Ale': 15,\n",
       " 'Fruit and Field Beer': 16,\n",
       " 'Oatmeal Stout': 17,\n",
       " 'Hefeweizen': 18,\n",
       " 'Belgian Pale Strong Ale': 19,\n",
       " 'Pumpkin Beer': 20,\n",
       " 'Belgian Dark Strong Ale': 21,\n",
       " 'American Brown Ale': 22,\n",
       " 'American Blonde Ale': 23,\n",
       " 'New England IPA': 24,\n",
       " 'Witbier': 25,\n",
       " 'Saison': 26,\n",
       " 'American Pale Ale': 27,\n",
       " 'Kölsch': 28,\n",
       " 'English Barleywine': 29,\n",
       " 'American Amber / Red Ale': 30,\n",
       " 'American Pale Wheat Beer': 31,\n",
       " 'Imperial Porter': 32,\n",
       " 'Wild Ale': 33,\n",
       " 'American Barleywine': 34,\n",
       " 'Gose': 35,\n",
       " 'Scotch Ale / Wee Heavy': 36,\n",
       " 'Fruited Kettle Sour': 37,\n",
       " 'Light Lager': 38,\n",
       " 'Doppelbock': 39,\n",
       " 'Winter Warmer': 40,\n",
       " 'Berliner Weisse': 41,\n",
       " 'Quadrupel (Quad)': 42,\n",
       " 'Kellerbier / Zwickelbier': 43,\n",
       " 'Belgian Pale Ale': 44,\n",
       " 'Baltic Porter': 45,\n",
       " 'English Brown Ale': 46,\n",
       " 'American Strong Ale': 47,\n",
       " 'English IPA': 48,\n",
       " 'Fruit Lambic': 49,\n",
       " 'Munich Dunkel': 50,\n",
       " 'Low-Alcohol Beer': 51,\n",
       " 'Black IPA': 52,\n",
       " 'English Bitter': 53,\n",
       " 'Schwarzbier': 54,\n",
       " 'English Porter': 55,\n",
       " 'Vienna Lager': 56,\n",
       " 'Bock': 57,\n",
       " 'Extra Special / Strong Bitter (ESB)': 58,\n",
       " 'Herb and Spice Beer': 59,\n",
       " 'Milkshake IPA': 60,\n",
       " 'Maibock': 61,\n",
       " 'Dubbel': 62,\n",
       " 'Irish Red Ale': 63,\n",
       " 'Irish Dry Stout': 64,\n",
       " 'American Amber / Red Lager': 65,\n",
       " 'Altbier': 66,\n",
       " 'Belgian IPA': 67,\n",
       " 'Scottish Ale': 68,\n",
       " 'Rye Beer': 69,\n",
       " 'European / Dortmunder Export Lager': 70,\n",
       " 'Festbier / Wiesnbier': 71,\n",
       " 'Foreign / Export Stout': 72,\n",
       " 'European Strong Lager': 73,\n",
       " 'Belgian Blonde Ale': 74,\n",
       " 'European Dark Lager': 75,\n",
       " 'English Stout': 76,\n",
       " 'Bière de Garde': 77,\n",
       " 'Malt Liquor': 78,\n",
       " 'Old Ale': 79,\n",
       " 'Imperial Red Ale': 80,\n",
       " 'Flanders Red Ale': 81,\n",
       " 'Flanders Oud Bruin': 82,\n",
       " 'English Strong Ale': 83,\n",
       " 'Dunkelweizen': 84,\n",
       " 'India Pale Lager (IPL)': 85,\n",
       " 'Czech Dark Lager': 86,\n",
       " 'English Dark Mild Ale': 87,\n",
       " 'Robust Porter': 88,\n",
       " 'Rauchbier': 89,\n",
       " 'Smoked Beer': 90,\n",
       " 'Chile Beer': 91,\n",
       " 'Belgian Dark Ale': 92,\n",
       " 'Weizenbock': 93,\n",
       " 'Brett Beer': 94,\n",
       " 'Gueuze': 95,\n",
       " 'Japanese Rice Lager': 96,\n",
       " 'Brut IPA': 97,\n",
       " 'Wheatwine': 98,\n",
       " 'Imperial Pilsner': 99,\n",
       " 'Smoked Porter': 100,\n",
       " 'Grisette': 101,\n",
       " 'Czech Pale Lager': 102,\n",
       " 'Gruit / Ancient Herbed Ale': 103,\n",
       " 'Kristallweizen': 104,\n",
       " 'Lambic': 105,\n",
       " 'English Pale Mild Ale': 106,\n",
       " 'Kvass': 107,\n",
       " 'Eisbock': 108,\n",
       " 'Czech Amber Lager': 109,\n",
       " 'Roggenbier': 110,\n",
       " 'Happoshu': 111,\n",
       " 'Grodziskie': 112,\n",
       " 'American Dark Wheat Beer': 113,\n",
       " 'Sahti': 114,\n",
       " 'Faro': 115}"
      ]
     },
     "execution_count": 9,
     "metadata": {},
     "output_type": "execute_result"
    }
   ],
   "source": [
    "labels"
   ]
  },
  {
   "cell_type": "code",
   "execution_count": 10,
   "metadata": {},
   "outputs": [
    {
     "data": {
      "text/plain": [
       "116"
      ]
     },
     "execution_count": 10,
     "metadata": {},
     "output_type": "execute_result"
    }
   ],
   "source": [
    "len(labels)"
   ]
  },
  {
   "cell_type": "code",
   "execution_count": 11,
   "metadata": {
    "id": "2ofjs62fmrNn",
    "tags": []
   },
   "outputs": [],
   "source": [
    "class Dataset(torch.utils.data.Dataset):\n",
    "    def __init__(self, df):\n",
    "        self.labels = [labels[label] for label in df['Style']]\n",
    "        self.texts = [tokenizer(text, \n",
    "                                padding='max_length', \n",
    "                                max_length = 512, \n",
    "                                truncation=True, \n",
    "                                return_tensors=\"pt\") \n",
    "                      for text in df['Review']]\n",
    "\n",
    "    def classes(self):\n",
    "        return self.labels\n",
    "\n",
    "    def __len__(self):\n",
    "        return len(self.labels)\n",
    "\n",
    "    def get_batch_labels(self, idx):\n",
    "        # Fetch a batch of labels\n",
    "        return np.array(self.labels[idx])\n",
    "\n",
    "    def get_batch_texts(self, idx):\n",
    "        # Fetch a batch of inputs\n",
    "        return self.texts[idx]\n",
    "\n",
    "    def __getitem__(self, idx):\n",
    "        batch_texts = self.get_batch_texts(idx)\n",
    "        batch_y = self.get_batch_labels(idx)\n",
    "        return batch_texts, batch_y"
   ]
  },
  {
   "cell_type": "code",
   "execution_count": 12,
   "metadata": {
    "colab": {
     "base_uri": "https://localhost:8080/"
    },
    "id": "6VsYY-Kpnsvh",
    "outputId": "b3574ec5-94f0-4862-c171-42347262c79f",
    "tags": []
   },
   "outputs": [
    {
     "name": "stdout",
     "output_type": "stream",
     "text": [
      "139747 17468 17469\n"
     ]
    }
   ],
   "source": [
    "np.random.seed(42)\n",
    "df_train, df_val, df_test = np.split(df.sample(frac=1, random_state=42), [int(.8*len(df)), int(.9*len(df))])\n",
    "\n",
    "print(len(df_train), len(df_val), len(df_test))"
   ]
  },
  {
   "cell_type": "code",
   "execution_count": 13,
   "metadata": {
    "id": "jreKGxPOnzPE",
    "tags": []
   },
   "outputs": [],
   "source": [
    "class BertClassifier(nn.Module):\n",
    "    def __init__(self, dropout=0.5):\n",
    "        super(BertClassifier, self).__init__()\n",
    "        self.bert = BertModel.from_pretrained('bert-base-cased')\n",
    "        self.dropout = nn.Dropout(dropout)\n",
    "        self.linear = nn.Linear(768, 116)\n",
    "        self.relu = nn.ReLU()\n",
    "\n",
    "    def forward(self, input_id, mask):\n",
    "        _, pooled_output = self.bert(input_ids= input_id, attention_mask=mask,return_dict=False)\n",
    "        dropout_output = self.dropout(pooled_output)\n",
    "        linear_output = self.linear(dropout_output)\n",
    "        final_layer = self.relu(linear_output)\n",
    "        return final_layer"
   ]
  },
  {
   "cell_type": "code",
   "execution_count": 14,
   "metadata": {
    "id": "BePq1fBgn9s0",
    "tags": []
   },
   "outputs": [],
   "source": [
    "def train(model, train_data, val_data, learning_rate, epochs):\n",
    "    print('Loading data into a dataset...')\n",
    "\n",
    "    train, val = Dataset(train_data), Dataset(val_data)\n",
    "\n",
    "    train_dataloader = torch.utils.data.DataLoader(train, batch_size=8, shuffle=True)\n",
    "    val_dataloader = torch.utils.data.DataLoader(val, batch_size=8)\n",
    "    print('Data loaded')\n",
    "\n",
    "    use_cuda = torch.cuda.is_available()\n",
    "    device = torch.device(\"cuda\" if use_cuda else \"cpu\")\n",
    "\n",
    "    criterion = nn.CrossEntropyLoss()\n",
    "    optimizer = Adam(model.parameters(), lr= learning_rate)\n",
    "\n",
    "    if use_cuda:\n",
    "            model = model.cuda()\n",
    "            criterion = criterion.cuda()\n",
    "\n",
    "    for epoch_num in range(epochs):\n",
    "\n",
    "            total_acc_train = 0\n",
    "            total_loss_train = 0\n",
    "\n",
    "            for train_input, train_label in tqdm(train_dataloader):\n",
    "\n",
    "                train_label = train_label.to(device)\n",
    "                mask = train_input['attention_mask'].to(device)\n",
    "                input_id = train_input['input_ids'].squeeze(1).to(device)\n",
    "\n",
    "                output = model(input_id, mask)\n",
    "                \n",
    "                batch_loss = criterion(output, train_label.long())\n",
    "                total_loss_train += batch_loss.item()\n",
    "                \n",
    "                acc = (output.argmax(dim=1) == train_label).sum().item()\n",
    "                total_acc_train += acc\n",
    "\n",
    "                model.zero_grad()\n",
    "                batch_loss.backward()\n",
    "                optimizer.step()\n",
    "            \n",
    "            total_acc_val = 0\n",
    "            total_loss_val = 0\n",
    "\n",
    "            with torch.no_grad():\n",
    "\n",
    "                for val_input, val_label in val_dataloader:\n",
    "\n",
    "                    val_label = val_label.to(device)\n",
    "                    mask = val_input['attention_mask'].to(device)\n",
    "                    input_id = val_input['input_ids'].squeeze(1).to(device)\n",
    "\n",
    "                    output = model(input_id, mask)\n",
    "\n",
    "                    batch_loss = criterion(output, val_label.long())\n",
    "                    total_loss_val += batch_loss.item()\n",
    "                    \n",
    "                    acc = (output.argmax(dim=1) == val_label).sum().item()\n",
    "                    total_acc_val += acc\n",
    "            \n",
    "            print(\n",
    "                f'Epochs: {epoch_num + 1} | Train Loss: {total_loss_train / len(train_data): .3f} \\\n",
    "                | Train Accuracy: {total_acc_train / len(train_data): .3f} \\\n",
    "                | Val Loss: {total_loss_val / len(val_data): .3f} \\\n",
    "                | Val Accuracy: {total_acc_val / len(val_data): .3f}')\n",
    "                  "
   ]
  },
  {
   "cell_type": "code",
   "execution_count": 15,
   "metadata": {
    "colab": {
     "base_uri": "https://localhost:8080/",
     "height": 503
    },
    "id": "-9ETk5NKoLnm",
    "outputId": "94693fd2-5a3e-4c80-9a20-09e85d4cd05e",
    "tags": []
   },
   "outputs": [
    {
     "name": "stderr",
     "output_type": "stream",
     "text": [
      "Some weights of the model checkpoint at bert-base-cased were not used when initializing BertModel: ['cls.seq_relationship.bias', 'cls.predictions.decoder.weight', 'cls.predictions.bias', 'cls.seq_relationship.weight', 'cls.predictions.transform.dense.bias', 'cls.predictions.transform.LayerNorm.bias', 'cls.predictions.transform.dense.weight', 'cls.predictions.transform.LayerNorm.weight']\n",
      "- This IS expected if you are initializing BertModel from the checkpoint of a model trained on another task or with another architecture (e.g. initializing a BertForSequenceClassification model from a BertForPreTraining model).\n",
      "- This IS NOT expected if you are initializing BertModel from the checkpoint of a model that you expect to be exactly identical (initializing a BertForSequenceClassification model from a BertForSequenceClassification model).\n"
     ]
    },
    {
     "name": "stdout",
     "output_type": "stream",
     "text": [
      "Loading data into a dataset...\n",
      "Data loaded\n"
     ]
    },
    {
     "name": "stderr",
     "output_type": "stream",
     "text": [
      "100%|██████████| 17469/17469 [57:08<00:00,  5.09it/s]\n"
     ]
    },
    {
     "name": "stdout",
     "output_type": "stream",
     "text": [
      "Epochs: 1 | Train Loss:  0.417                 | Train Accuracy:  0.173                 | Val Loss:  0.332                 | Val Accuracy:  0.224\n"
     ]
    },
    {
     "name": "stderr",
     "output_type": "stream",
     "text": [
      "100%|██████████| 17469/17469 [56:56<00:00,  5.11it/s]\n"
     ]
    },
    {
     "name": "stdout",
     "output_type": "stream",
     "text": [
      "Epochs: 2 | Train Loss:  0.296                 | Train Accuracy:  0.283                 | Val Loss:  0.269                 | Val Accuracy:  0.339\n"
     ]
    },
    {
     "name": "stderr",
     "output_type": "stream",
     "text": [
      "100%|██████████| 17469/17469 [56:42<00:00,  5.13it/s]\n"
     ]
    },
    {
     "name": "stdout",
     "output_type": "stream",
     "text": [
      "Epochs: 3 | Train Loss:  0.245                 | Train Accuracy:  0.393                 | Val Loss:  0.231                 | Val Accuracy:  0.429\n"
     ]
    },
    {
     "name": "stderr",
     "output_type": "stream",
     "text": [
      "100%|██████████| 17469/17469 [56:39<00:00,  5.14it/s]\n"
     ]
    },
    {
     "name": "stdout",
     "output_type": "stream",
     "text": [
      "Epochs: 4 | Train Loss:  0.214                 | Train Accuracy:  0.465                 | Val Loss:  0.208                 | Val Accuracy:  0.476\n"
     ]
    },
    {
     "name": "stderr",
     "output_type": "stream",
     "text": [
      "100%|██████████| 17469/17469 [56:42<00:00,  5.13it/s]\n"
     ]
    },
    {
     "name": "stdout",
     "output_type": "stream",
     "text": [
      "Epochs: 5 | Train Loss:  0.194                 | Train Accuracy:  0.507                 | Val Loss:  0.193                 | Val Accuracy:  0.508\n"
     ]
    }
   ],
   "source": [
    "EPOCHS = 5\n",
    "model = BertClassifier()\n",
    "LR = 1e-6\n",
    "              \n",
    "train(model, df_train, df_val, LR, EPOCHS)"
   ]
  },
  {
   "cell_type": "code",
   "execution_count": 16,
   "metadata": {
    "id": "myca65jTgtHY",
    "tags": []
   },
   "outputs": [],
   "source": [
    "torch.save(model, 'beert_model_batch8_5epochs.pt')"
   ]
  },
  {
   "cell_type": "code",
   "execution_count": 17,
   "metadata": {
    "id": "13ZKmNFVgtHY",
    "tags": []
   },
   "outputs": [],
   "source": [
    "def evaluate(model, test_data):\n",
    "    y_pred = []\n",
    "    y_true = []\n",
    "    print('Loading data...')\n",
    "    test = Dataset(test_data)\n",
    "\n",
    "    test_dataloader = torch.utils.data.DataLoader(test, batch_size=2)\n",
    "    print('Data loaded')\n",
    "\n",
    "    use_cuda = torch.cuda.is_available()\n",
    "    device = torch.device(\"cuda\" if use_cuda else \"cpu\")\n",
    "\n",
    "    if use_cuda:\n",
    "        model = model.cuda()\n",
    "\n",
    "    total_acc_test = 0\n",
    "    \n",
    "    with torch.no_grad():\n",
    "        for test_input, test_label in test_dataloader:\n",
    "\n",
    "            test_label = test_label.to(device)\n",
    "            mask = test_input['attention_mask'].to(device)\n",
    "            input_id = test_input['input_ids'].squeeze(1).to(device)\n",
    "\n",
    "            output = model(input_id, mask)\n",
    "            y_pred.append(output.argmax(dim=1))\n",
    "            y_true.append(test_label)\n",
    "\n",
    "            acc = (output.argmax(dim=1) == test_label).sum().item()\n",
    "            total_acc_test += acc\n",
    "    \n",
    "    print(f'Test Accuracy: {total_acc_test / len(test_data): .3f}')\n",
    "    return y_pred, y_true\n",
    "    "
   ]
  },
  {
   "cell_type": "code",
   "execution_count": 18,
   "metadata": {
    "id": "-opItH68gtHZ",
    "outputId": "f7d4a4e2-eb6c-4faf-dc5e-633932445c53",
    "tags": []
   },
   "outputs": [
    {
     "name": "stdout",
     "output_type": "stream",
     "text": [
      "Loading data...\n",
      "Data loaded\n",
      "Test Accuracy:  0.515\n"
     ]
    }
   ],
   "source": [
    "y_pred, y_true = evaluate(model, df_test)"
   ]
  },
  {
   "cell_type": "code",
   "execution_count": null,
   "metadata": {},
   "outputs": [],
   "source": [
    "import torch\n",
    "load = torch.load('beert_model_simple.pt')"
   ]
  },
  {
   "cell_type": "markdown",
   "metadata": {
    "id": "_C6CwWaHgtHa"
   },
   "source": [
    "confusion matrix"
   ]
  },
  {
   "cell_type": "code",
   "execution_count": 32,
   "metadata": {},
   "outputs": [],
   "source": [
    "t = [x.cpu() for x in y_true]"
   ]
  },
  {
   "cell_type": "code",
   "execution_count": null,
   "metadata": {
    "id": "U9hbg47agtHa"
   },
   "outputs": [],
   "source": [
    "classes = labels.keys()\n",
    "cf_matrix = confusion_matrix([x.cpu() for x in y_true], [y.cpu() for y in y_pred])\n",
    "df_cm = pd.DataFrame(cf_matrix / np.sum(cf_matrix, axis=1)[:, None], index = [i for i in classes],\n",
    "                     columns = [i for i in classes])\n",
    "plt.figure(figsize = (12,7))\n",
    "sn.heatmap(df_cm, annot=True)\n",
    "plt.savefig('output.png')"
   ]
  },
  {
   "cell_type": "code",
   "execution_count": null,
   "metadata": {},
   "outputs": [],
   "source": []
  }
 ],
 "metadata": {
  "accelerator": "GPU",
  "colab": {
   "collapsed_sections": [
    "vuSVPbqEXJvB"
   ],
   "provenance": []
  },
  "gpuClass": "standard",
  "kernelspec": {
   "display_name": "Python 3 (ipykernel)",
   "language": "python",
   "name": "python3"
  },
  "language_info": {
   "codemirror_mode": {
    "name": "ipython",
    "version": 3
   },
   "file_extension": ".py",
   "mimetype": "text/x-python",
   "name": "python",
   "nbconvert_exporter": "python",
   "pygments_lexer": "ipython3",
   "version": "3.9.1"
  },
  "widgets": {
   "application/vnd.jupyter.widget-state+json": {
    "182f21a9fdb647efa7ae78602f07dbad": {
     "model_module": "@jupyter-widgets/controls",
     "model_module_version": "1.5.0",
     "model_name": "HTMLModel",
     "state": {
      "_dom_classes": [],
      "_model_module": "@jupyter-widgets/controls",
      "_model_module_version": "1.5.0",
      "_model_name": "HTMLModel",
      "_view_count": null,
      "_view_module": "@jupyter-widgets/controls",
      "_view_module_version": "1.5.0",
      "_view_name": "HTMLView",
      "description": "",
      "description_tooltip": null,
      "layout": "IPY_MODEL_f0b0a7e2c8db4a22922b8781b68f6cfc",
      "placeholder": "​",
      "style": "IPY_MODEL_af3e90442b2a4421bb01e8f8d963e378",
      "value": " 120/120 [2:08:46&lt;00:00, 63.08s/it]"
     }
    },
    "3a37fa36f455445cb30729f17e761a01": {
     "model_module": "@jupyter-widgets/base",
     "model_module_version": "1.2.0",
     "model_name": "LayoutModel",
     "state": {
      "_model_module": "@jupyter-widgets/base",
      "_model_module_version": "1.2.0",
      "_model_name": "LayoutModel",
      "_view_count": null,
      "_view_module": "@jupyter-widgets/base",
      "_view_module_version": "1.2.0",
      "_view_name": "LayoutView",
      "align_content": null,
      "align_items": null,
      "align_self": null,
      "border": null,
      "bottom": null,
      "display": null,
      "flex": null,
      "flex_flow": null,
      "grid_area": null,
      "grid_auto_columns": null,
      "grid_auto_flow": null,
      "grid_auto_rows": null,
      "grid_column": null,
      "grid_gap": null,
      "grid_row": null,
      "grid_template_areas": null,
      "grid_template_columns": null,
      "grid_template_rows": null,
      "height": null,
      "justify_content": null,
      "justify_items": null,
      "left": null,
      "margin": null,
      "max_height": null,
      "max_width": null,
      "min_height": null,
      "min_width": null,
      "object_fit": null,
      "object_position": null,
      "order": null,
      "overflow": null,
      "overflow_x": null,
      "overflow_y": null,
      "padding": null,
      "right": null,
      "top": null,
      "visibility": null,
      "width": null
     }
    },
    "75f09aea88b34ed6a19f89d7532d4370": {
     "model_module": "@jupyter-widgets/base",
     "model_module_version": "1.2.0",
     "model_name": "LayoutModel",
     "state": {
      "_model_module": "@jupyter-widgets/base",
      "_model_module_version": "1.2.0",
      "_model_name": "LayoutModel",
      "_view_count": null,
      "_view_module": "@jupyter-widgets/base",
      "_view_module_version": "1.2.0",
      "_view_name": "LayoutView",
      "align_content": null,
      "align_items": null,
      "align_self": null,
      "border": null,
      "bottom": null,
      "display": null,
      "flex": null,
      "flex_flow": null,
      "grid_area": null,
      "grid_auto_columns": null,
      "grid_auto_flow": null,
      "grid_auto_rows": null,
      "grid_column": null,
      "grid_gap": null,
      "grid_row": null,
      "grid_template_areas": null,
      "grid_template_columns": null,
      "grid_template_rows": null,
      "height": null,
      "justify_content": null,
      "justify_items": null,
      "left": null,
      "margin": null,
      "max_height": null,
      "max_width": null,
      "min_height": null,
      "min_width": null,
      "object_fit": null,
      "object_position": null,
      "order": null,
      "overflow": null,
      "overflow_x": null,
      "overflow_y": null,
      "padding": null,
      "right": null,
      "top": null,
      "visibility": null,
      "width": null
     }
    },
    "85fbb2e9dcda47d38b8ed81b3f79d8b6": {
     "model_module": "@jupyter-widgets/controls",
     "model_module_version": "1.5.0",
     "model_name": "HBoxModel",
     "state": {
      "_dom_classes": [],
      "_model_module": "@jupyter-widgets/controls",
      "_model_module_version": "1.5.0",
      "_model_name": "HBoxModel",
      "_view_count": null,
      "_view_module": "@jupyter-widgets/controls",
      "_view_module_version": "1.5.0",
      "_view_name": "HBoxView",
      "box_style": "",
      "children": [
       "IPY_MODEL_95a133b3d0554bd2b53658c1a2306d8c",
       "IPY_MODEL_ff3306c20876460bae0659022586f2e6",
       "IPY_MODEL_182f21a9fdb647efa7ae78602f07dbad"
      ],
      "layout": "IPY_MODEL_75f09aea88b34ed6a19f89d7532d4370"
     }
    },
    "87bcdc616cdd4129a4d37eac6289ee97": {
     "model_module": "@jupyter-widgets/controls",
     "model_module_version": "1.5.0",
     "model_name": "ProgressStyleModel",
     "state": {
      "_model_module": "@jupyter-widgets/controls",
      "_model_module_version": "1.5.0",
      "_model_name": "ProgressStyleModel",
      "_view_count": null,
      "_view_module": "@jupyter-widgets/base",
      "_view_module_version": "1.2.0",
      "_view_name": "StyleView",
      "bar_color": null,
      "description_width": ""
     }
    },
    "95a133b3d0554bd2b53658c1a2306d8c": {
     "model_module": "@jupyter-widgets/controls",
     "model_module_version": "1.5.0",
     "model_name": "HTMLModel",
     "state": {
      "_dom_classes": [],
      "_model_module": "@jupyter-widgets/controls",
      "_model_module_version": "1.5.0",
      "_model_name": "HTMLModel",
      "_view_count": null,
      "_view_module": "@jupyter-widgets/controls",
      "_view_module_version": "1.5.0",
      "_view_name": "HTMLView",
      "description": "",
      "description_tooltip": null,
      "layout": "IPY_MODEL_c72c373426af490cba4fc08767ebb91b",
      "placeholder": "​",
      "style": "IPY_MODEL_b376fccbe33f4a30a74a649de2d63fda",
      "value": "100%"
     }
    },
    "af3e90442b2a4421bb01e8f8d963e378": {
     "model_module": "@jupyter-widgets/controls",
     "model_module_version": "1.5.0",
     "model_name": "DescriptionStyleModel",
     "state": {
      "_model_module": "@jupyter-widgets/controls",
      "_model_module_version": "1.5.0",
      "_model_name": "DescriptionStyleModel",
      "_view_count": null,
      "_view_module": "@jupyter-widgets/base",
      "_view_module_version": "1.2.0",
      "_view_name": "StyleView",
      "description_width": ""
     }
    },
    "b376fccbe33f4a30a74a649de2d63fda": {
     "model_module": "@jupyter-widgets/controls",
     "model_module_version": "1.5.0",
     "model_name": "DescriptionStyleModel",
     "state": {
      "_model_module": "@jupyter-widgets/controls",
      "_model_module_version": "1.5.0",
      "_model_name": "DescriptionStyleModel",
      "_view_count": null,
      "_view_module": "@jupyter-widgets/base",
      "_view_module_version": "1.2.0",
      "_view_name": "StyleView",
      "description_width": ""
     }
    },
    "c72c373426af490cba4fc08767ebb91b": {
     "model_module": "@jupyter-widgets/base",
     "model_module_version": "1.2.0",
     "model_name": "LayoutModel",
     "state": {
      "_model_module": "@jupyter-widgets/base",
      "_model_module_version": "1.2.0",
      "_model_name": "LayoutModel",
      "_view_count": null,
      "_view_module": "@jupyter-widgets/base",
      "_view_module_version": "1.2.0",
      "_view_name": "LayoutView",
      "align_content": null,
      "align_items": null,
      "align_self": null,
      "border": null,
      "bottom": null,
      "display": null,
      "flex": null,
      "flex_flow": null,
      "grid_area": null,
      "grid_auto_columns": null,
      "grid_auto_flow": null,
      "grid_auto_rows": null,
      "grid_column": null,
      "grid_gap": null,
      "grid_row": null,
      "grid_template_areas": null,
      "grid_template_columns": null,
      "grid_template_rows": null,
      "height": null,
      "justify_content": null,
      "justify_items": null,
      "left": null,
      "margin": null,
      "max_height": null,
      "max_width": null,
      "min_height": null,
      "min_width": null,
      "object_fit": null,
      "object_position": null,
      "order": null,
      "overflow": null,
      "overflow_x": null,
      "overflow_y": null,
      "padding": null,
      "right": null,
      "top": null,
      "visibility": null,
      "width": null
     }
    },
    "f0b0a7e2c8db4a22922b8781b68f6cfc": {
     "model_module": "@jupyter-widgets/base",
     "model_module_version": "1.2.0",
     "model_name": "LayoutModel",
     "state": {
      "_model_module": "@jupyter-widgets/base",
      "_model_module_version": "1.2.0",
      "_model_name": "LayoutModel",
      "_view_count": null,
      "_view_module": "@jupyter-widgets/base",
      "_view_module_version": "1.2.0",
      "_view_name": "LayoutView",
      "align_content": null,
      "align_items": null,
      "align_self": null,
      "border": null,
      "bottom": null,
      "display": null,
      "flex": null,
      "flex_flow": null,
      "grid_area": null,
      "grid_auto_columns": null,
      "grid_auto_flow": null,
      "grid_auto_rows": null,
      "grid_column": null,
      "grid_gap": null,
      "grid_row": null,
      "grid_template_areas": null,
      "grid_template_columns": null,
      "grid_template_rows": null,
      "height": null,
      "justify_content": null,
      "justify_items": null,
      "left": null,
      "margin": null,
      "max_height": null,
      "max_width": null,
      "min_height": null,
      "min_width": null,
      "object_fit": null,
      "object_position": null,
      "order": null,
      "overflow": null,
      "overflow_x": null,
      "overflow_y": null,
      "padding": null,
      "right": null,
      "top": null,
      "visibility": null,
      "width": null
     }
    },
    "ff3306c20876460bae0659022586f2e6": {
     "model_module": "@jupyter-widgets/controls",
     "model_module_version": "1.5.0",
     "model_name": "FloatProgressModel",
     "state": {
      "_dom_classes": [],
      "_model_module": "@jupyter-widgets/controls",
      "_model_module_version": "1.5.0",
      "_model_name": "FloatProgressModel",
      "_view_count": null,
      "_view_module": "@jupyter-widgets/controls",
      "_view_module_version": "1.5.0",
      "_view_name": "ProgressView",
      "bar_style": "success",
      "description": "",
      "description_tooltip": null,
      "layout": "IPY_MODEL_3a37fa36f455445cb30729f17e761a01",
      "max": 120,
      "min": 0,
      "orientation": "horizontal",
      "style": "IPY_MODEL_87bcdc616cdd4129a4d37eac6289ee97",
      "value": 120
     }
    }
   }
  }
 },
 "nbformat": 4,
 "nbformat_minor": 4
}
